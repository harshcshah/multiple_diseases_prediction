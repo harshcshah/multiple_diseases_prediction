{
 "cells": [
  {
   "cell_type": "code",
   "execution_count": 3,
   "id": "65312424",
   "metadata": {},
   "outputs": [],
   "source": [
    "import pickle\n",
    "import streamlit as st\n",
    "from streamlit_option_menu import option_menu\n",
    "\n",
    "\n"
   ]
  },
  {
   "cell_type": "markdown",
   "id": "73ceb6f5",
   "metadata": {},
   "source": [
    "## loading the saved models"
   ]
  },
  {
   "cell_type": "code",
   "execution_count": 6,
   "id": "b39c2c12",
   "metadata": {},
   "outputs": [
    {
     "name": "stderr",
     "output_type": "stream",
     "text": [
      "C:\\Users\\Harsh shah\\anaconda3\\lib\\site-packages\\sklearn\\base.py:348: InconsistentVersionWarning: Trying to unpickle estimator SVC from version 1.0.2 when using version 1.3.1. This might lead to breaking code or invalid results. Use at your own risk. For more info please refer to:\n",
      "https://scikit-learn.org/stable/model_persistence.html#security-maintainability-limitations\n",
      "  warnings.warn(\n",
      "C:\\Users\\Harsh shah\\anaconda3\\lib\\site-packages\\sklearn\\base.py:348: InconsistentVersionWarning: Trying to unpickle estimator LogisticRegression from version 1.0.2 when using version 1.3.1. This might lead to breaking code or invalid results. Use at your own risk. For more info please refer to:\n",
      "https://scikit-learn.org/stable/model_persistence.html#security-maintainability-limitations\n",
      "  warnings.warn(\n"
     ]
    }
   ],
   "source": [
    "diabetes_model = pickle.load(open('C:\\\\Users\\\\Harsh shah\\\\ML Projects\\\\Course Recomendation System\\\\Multiple Disease Prediction System\\\\saved models\\\\diabetes_model.sav', 'rb'), encoding='latin1')\n",
    "parkinson_model = pickle.load(open('C:\\\\Users\\\\Harsh shah\\\\ML Projects\\\\Course Recomendation System\\\\Multiple Disease Prediction System\\\\saved models\\\\parkinsons_model.sav', 'rb'), encoding='latin1')\n",
    "heart_model = pickle.load(open('C:\\\\Users\\\\Harsh shah\\\\ML Projects\\\\Course Recomendation System\\\\Multiple Disease Prediction System\\\\saved models\\\\heart_disease_model.sav', 'rb'), encoding='latin1')\n"
   ]
  },
  {
   "cell_type": "markdown",
   "id": "734bb43c",
   "metadata": {},
   "source": [
    "## Creating sidebar"
   ]
  },
  {
   "cell_type": "code",
   "execution_count": 8,
   "id": "2215c8d5",
   "metadata": {},
   "outputs": [
    {
     "name": "stderr",
     "output_type": "stream",
     "text": [
      "2023-11-06 19:40:02.074 WARNING streamlit.runtime.state.session_state_proxy: Session state does not function when running a script without `streamlit run`\n",
      "2023-11-06 19:40:02.147 \n",
      "  \u001b[33m\u001b[1mWarning:\u001b[0m to view this Streamlit app on a browser, run it with the following\n",
      "  command:\n",
      "\n",
      "    streamlit run C:\\Users\\Harsh shah\\anaconda3\\lib\\site-packages\\ipykernel_launcher.py [ARGUMENTS]\n"
     ]
    }
   ],
   "source": [
    "with st.sidebar:\n",
    "    selected = option_menu('Mutliple Diseases Prediction System',['Diabetes Prediction','Heart Diseases Prediction','Parkinsons Prediction'])"
   ]
  },
  {
   "cell_type": "code",
   "execution_count": null,
   "id": "40ac598c",
   "metadata": {},
   "outputs": [],
   "source": []
  }
 ],
 "metadata": {
  "kernelspec": {
   "display_name": "Python 3 (ipykernel)",
   "language": "python",
   "name": "python3"
  },
  "language_info": {
   "codemirror_mode": {
    "name": "ipython",
    "version": 3
   },
   "file_extension": ".py",
   "mimetype": "text/x-python",
   "name": "python",
   "nbconvert_exporter": "python",
   "pygments_lexer": "ipython3",
   "version": "3.9.13"
  }
 },
 "nbformat": 4,
 "nbformat_minor": 5
}
